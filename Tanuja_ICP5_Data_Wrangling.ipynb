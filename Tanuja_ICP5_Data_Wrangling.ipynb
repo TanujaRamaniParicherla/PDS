{
  "nbformat": 4,
  "nbformat_minor": 0,
  "metadata": {
    "colab": {
      "provenance": [],
      "include_colab_link": true
    },
    "kernelspec": {
      "name": "python3",
      "display_name": "Python 3"
    },
    "language_info": {
      "name": "python"
    }
  },
  "cells": [
    {
      "cell_type": "markdown",
      "metadata": {
        "id": "view-in-github",
        "colab_type": "text"
      },
      "source": [
        "<a href=\"https://colab.research.google.com/github/TanujaRamaniParicherla/PDS/blob/main/Tanuja_ICP5_Data_Wrangling.ipynb\" target=\"_parent\"><img src=\"https://colab.research.google.com/assets/colab-badge.svg\" alt=\"Open In Colab\"/></a>"
      ]
    },
    {
      "cell_type": "code",
      "execution_count": 1,
      "metadata": {
        "id": "urYmwsaWiUrE"
      },
      "outputs": [],
      "source": [
        "import numpy as np\n",
        "import pandas as pd"
      ]
    },
    {
      "cell_type": "code",
      "source": [
        "url = 'https://raw.githubusercontent.com/JuliaData/CSV.jl/refs/heads/main/test/testfiles/Sacramentorealestatetransactions.csv'\n",
        "df = pd.read_csv(url)"
      ],
      "metadata": {
        "id": "H-OMWqzkidaf"
      },
      "execution_count": 2,
      "outputs": []
    },
    {
      "cell_type": "code",
      "source": [
        "num_columns = df.shape[1]\n",
        "print(f\"Number of columns: {num_columns}\")"
      ],
      "metadata": {
        "colab": {
          "base_uri": "https://localhost:8080/"
        },
        "id": "2xzNoB3Qifox",
        "outputId": "6ba98400-6323-4f0a-8490-af68af2b591e"
      },
      "execution_count": 3,
      "outputs": [
        {
          "output_type": "stream",
          "name": "stdout",
          "text": [
            "Number of columns: 12\n"
          ]
        }
      ]
    },
    {
      "cell_type": "code",
      "source": [
        "mean_price = df['price'].mean()\n",
        "print(f\"Mean of house prices: {mean_price}\")"
      ],
      "metadata": {
        "colab": {
          "base_uri": "https://localhost:8080/"
        },
        "id": "Vq58bBETjFDs",
        "outputId": "16ec1cbb-83ac-4399-8b7e-5d18d61cd56f"
      },
      "execution_count": 4,
      "outputs": [
        {
          "output_type": "stream",
          "name": "stdout",
          "text": [
            "Mean of house prices: 234144.26395939087\n"
          ]
        }
      ]
    },
    {
      "cell_type": "code",
      "source": [
        "median_price = df['price'].median()\n",
        "print(f\"Median of house prices: {median_price}\")\n"
      ],
      "metadata": {
        "colab": {
          "base_uri": "https://localhost:8080/"
        },
        "id": "_ChCTqIgjH1o",
        "outputId": "6daaf1e6-002f-4f41-b092-b65bc1b3ddd8"
      },
      "execution_count": 5,
      "outputs": [
        {
          "output_type": "stream",
          "name": "stdout",
          "text": [
            "Median of house prices: 213750.0\n"
          ]
        }
      ]
    },
    {
      "cell_type": "code",
      "source": [
        "property_types = df['type'].unique()\n",
        "print(f\"Different types of property: {property_types}\")\n"
      ],
      "metadata": {
        "colab": {
          "base_uri": "https://localhost:8080/"
        },
        "id": "wRGB7AEGjK0_",
        "outputId": "96906d40-8c42-41de-b262-61f0c1fcb1d6"
      },
      "execution_count": 6,
      "outputs": [
        {
          "output_type": "stream",
          "name": "stdout",
          "text": [
            "Different types of property: ['Residential' 'Condo' 'Multi-Family' 'Unkown']\n"
          ]
        }
      ]
    },
    {
      "cell_type": "code",
      "source": [
        "max_condo_price = df[df['type'] == 'Condo']['price'].max()\n",
        "print(f\"Maximum price of a condo: {max_condo_price}\")"
      ],
      "metadata": {
        "colab": {
          "base_uri": "https://localhost:8080/"
        },
        "id": "yIEqMEEcjNpI",
        "outputId": "97cf3125-1520-437b-dd8b-0a014f275553"
      },
      "execution_count": 7,
      "outputs": [
        {
          "output_type": "stream",
          "name": "stdout",
          "text": [
            "Maximum price of a condo: 360000\n"
          ]
        }
      ]
    },
    {
      "cell_type": "code",
      "source": [
        "mean_price_by_type = df.groupby('type')['price'].mean()\n",
        "print(f\"Mean price by property type:\\n{mean_price_by_type}\")"
      ],
      "metadata": {
        "colab": {
          "base_uri": "https://localhost:8080/"
        },
        "id": "ydXIrskIjTUB",
        "outputId": "6f273cee-80cf-4baa-8bac-9a6b41e29a41"
      },
      "execution_count": 8,
      "outputs": [
        {
          "output_type": "stream",
          "name": "stdout",
          "text": [
            "Mean price by property type:\n",
            "type\n",
            "Condo           150082.185185\n",
            "Multi-Family    224534.692308\n",
            "Residential     239186.162486\n",
            "Unkown          275000.000000\n",
            "Name: price, dtype: float64\n"
          ]
        }
      ]
    },
    {
      "cell_type": "code",
      "source": [
        "property_type_counts = df['type'].value_counts()\n",
        "print(f\"Count of different property types:\\n{property_type_counts}\")"
      ],
      "metadata": {
        "colab": {
          "base_uri": "https://localhost:8080/"
        },
        "id": "_u_E36NnjYSz",
        "outputId": "ca1b68d3-6b7d-48d1-c112-9488f677cf17"
      },
      "execution_count": 9,
      "outputs": [
        {
          "output_type": "stream",
          "name": "stdout",
          "text": [
            "Count of different property types:\n",
            "type\n",
            "Residential     917\n",
            "Condo            54\n",
            "Multi-Family     13\n",
            "Unkown            1\n",
            "Name: count, dtype: int64\n"
          ]
        }
      ]
    },
    {
      "cell_type": "code",
      "source": [],
      "metadata": {
        "id": "PvsK70cPjc8m"
      },
      "execution_count": null,
      "outputs": []
    }
  ]
}